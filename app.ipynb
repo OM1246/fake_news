{
  "cells": [
    {
      "cell_type": "code",
      "execution_count": 16,
      "metadata": {
        "id": "AHNESoUe9XMx"
      },
      "outputs": [],
      "source": [
        "import pandas as pd\n",
        "from sklearn.model_selection import train_test_split\n",
        "from sklearn.feature_extraction.text import TfidfVectorizer\n",
        "from sklearn.linear_model import LogisticRegression\n",
        "from sklearn.metrics import classification_report\n",
        "import re\n",
        "import joblib\n",
        "import string"
      ]
    },
    {
      "cell_type": "code",
      "execution_count": null,
      "metadata": {
        "id": "kJWCSNdl95zj"
      },
      "outputs": [],
      "source": [
        "true = pd.read_csv(\"True_new.csv\")"
      ]
    },
    {
      "cell_type": "code",
      "execution_count": null,
      "metadata": {
        "id": "BHfHSkbJ-zQO"
      },
      "outputs": [],
      "source": [
        "fake = pd.read_csv('fake_news.csv')\n"
      ]
    },
    {
      "cell_type": "code",
      "execution_count": 19,
      "metadata": {
        "colab": {
          "base_uri": "https://localhost:8080/",
          "height": 206
        },
        "id": "5z8ec6qD-51M",
        "outputId": "fcde60c0-2c27-4210-e934-e2c1f9ddc174"
      },
      "outputs": [
        {
          "data": {
            "application/vnd.microsoft.datawrangler.viewer.v0+json": {
              "columns": [
                {
                  "name": "index",
                  "rawType": "int64",
                  "type": "integer"
                },
                {
                  "name": "title",
                  "rawType": "object",
                  "type": "string"
                },
                {
                  "name": "text",
                  "rawType": "object",
                  "type": "string"
                },
                {
                  "name": "subject",
                  "rawType": "object",
                  "type": "string"
                },
                {
                  "name": "date",
                  "rawType": "object",
                  "type": "string"
                },
                {
                  "name": "Unnamed: 4",
                  "rawType": "float64",
                  "type": "float"
                }
              ],
              "conversionMethod": "pd.DataFrame",
              "ref": "9200e216-3a44-4c75-aeef-29e6f77a5dcc",
              "rows": [
                [
                  "0",
                  "Pakistan Reports Surge in Brucellosis Cases Among Farmers",
                  "Pakistan health officials noted a 20% rise in brucellosis cases among dairy farmers, linked to poor livestock vaccination, though some suspect underreporting due to rural stigma.",
                  "Health",
                  "March 16, 2025",
                  null
                ],
                [
                  "1",
                  "Belgium Trials New Drug for Chronic Fatigue Syndrome",
                  "Belgium began trials for a new drug targeting chronic fatigue syndrome, promising early results, but high costs may limit access for uninsured patients.",
                  "Health",
                  "March 15, 2025",
                  null
                ],
                [
                  "2",
                  "Uganda Links Deforestation to Rise in Sleeping Sickness",
                  "Ugandan researchers reported a 15% increase in sleeping sickness cases, attributing it to deforestation displacing tsetse flies, with conservation efforts questioned.",
                  "Health",
                  "March 14, 2025",
                  null
                ],
                [
                  "3",
                  "Canada Develops Wearable to Detect Early Sepsis Signs",
                  "Canada unveiled a wearable device to detect early sepsis, a breakthrough, but rural hospitals may struggle with integration due to funding gaps.",
                  "Health",
                  "March 13, 2025",
                  null
                ],
                [
                  "4",
                  "Australia Investigates Link Between Bushfires and Eye Irritation",
                  "Australian health authorities are studying bushfire smoke’s role in a 12% rise in eye irritation cases, raising concerns about long-term vision impacts.",
                  "Health",
                  "March 12, 2025",
                  null
                ]
              ],
              "shape": {
                "columns": 5,
                "rows": 5
              }
            },
            "text/html": [
              "<div>\n",
              "<style scoped>\n",
              "    .dataframe tbody tr th:only-of-type {\n",
              "        vertical-align: middle;\n",
              "    }\n",
              "\n",
              "    .dataframe tbody tr th {\n",
              "        vertical-align: top;\n",
              "    }\n",
              "\n",
              "    .dataframe thead th {\n",
              "        text-align: right;\n",
              "    }\n",
              "</style>\n",
              "<table border=\"1\" class=\"dataframe\">\n",
              "  <thead>\n",
              "    <tr style=\"text-align: right;\">\n",
              "      <th></th>\n",
              "      <th>title</th>\n",
              "      <th>text</th>\n",
              "      <th>subject</th>\n",
              "      <th>date</th>\n",
              "      <th>Unnamed: 4</th>\n",
              "    </tr>\n",
              "  </thead>\n",
              "  <tbody>\n",
              "    <tr>\n",
              "      <th>0</th>\n",
              "      <td>Pakistan Reports Surge in Brucellosis Cases Am...</td>\n",
              "      <td>Pakistan health officials noted a 20% rise in ...</td>\n",
              "      <td>Health</td>\n",
              "      <td>March 16, 2025</td>\n",
              "      <td>NaN</td>\n",
              "    </tr>\n",
              "    <tr>\n",
              "      <th>1</th>\n",
              "      <td>Belgium Trials New Drug for Chronic Fatigue Sy...</td>\n",
              "      <td>Belgium began trials for a new drug targeting ...</td>\n",
              "      <td>Health</td>\n",
              "      <td>March 15, 2025</td>\n",
              "      <td>NaN</td>\n",
              "    </tr>\n",
              "    <tr>\n",
              "      <th>2</th>\n",
              "      <td>Uganda Links Deforestation to Rise in Sleeping...</td>\n",
              "      <td>Ugandan researchers reported a 15% increase in...</td>\n",
              "      <td>Health</td>\n",
              "      <td>March 14, 2025</td>\n",
              "      <td>NaN</td>\n",
              "    </tr>\n",
              "    <tr>\n",
              "      <th>3</th>\n",
              "      <td>Canada Develops Wearable to Detect Early Sepsi...</td>\n",
              "      <td>Canada unveiled a wearable device to detect ea...</td>\n",
              "      <td>Health</td>\n",
              "      <td>March 13, 2025</td>\n",
              "      <td>NaN</td>\n",
              "    </tr>\n",
              "    <tr>\n",
              "      <th>4</th>\n",
              "      <td>Australia Investigates Link Between Bushfires ...</td>\n",
              "      <td>Australian health authorities are studying bus...</td>\n",
              "      <td>Health</td>\n",
              "      <td>March 12, 2025</td>\n",
              "      <td>NaN</td>\n",
              "    </tr>\n",
              "  </tbody>\n",
              "</table>\n",
              "</div>"
            ],
            "text/plain": [
              "                                               title  \\\n",
              "0  Pakistan Reports Surge in Brucellosis Cases Am...   \n",
              "1  Belgium Trials New Drug for Chronic Fatigue Sy...   \n",
              "2  Uganda Links Deforestation to Rise in Sleeping...   \n",
              "3  Canada Develops Wearable to Detect Early Sepsi...   \n",
              "4  Australia Investigates Link Between Bushfires ...   \n",
              "\n",
              "                                                text subject            date  \\\n",
              "0  Pakistan health officials noted a 20% rise in ...  Health  March 16, 2025   \n",
              "1  Belgium began trials for a new drug targeting ...  Health  March 15, 2025   \n",
              "2  Ugandan researchers reported a 15% increase in...  Health  March 14, 2025   \n",
              "3  Canada unveiled a wearable device to detect ea...  Health  March 13, 2025   \n",
              "4  Australian health authorities are studying bus...  Health  March 12, 2025   \n",
              "\n",
              "   Unnamed: 4  \n",
              "0         NaN  \n",
              "1         NaN  \n",
              "2         NaN  \n",
              "3         NaN  \n",
              "4         NaN  "
            ]
          },
          "execution_count": 19,
          "metadata": {},
          "output_type": "execute_result"
        }
      ],
      "source": [
        "fake.head()"
      ]
    },
    {
      "cell_type": "code",
      "execution_count": 20,
      "metadata": {
        "colab": {
          "base_uri": "https://localhost:8080/",
          "height": 206
        },
        "id": "zTALpmHz_Akj",
        "outputId": "d4b05acd-cdff-4386-876d-d456cad327a1"
      },
      "outputs": [
        {
          "data": {
            "application/vnd.microsoft.datawrangler.viewer.v0+json": {
              "columns": [
                {
                  "name": "index",
                  "rawType": "int64",
                  "type": "integer"
                },
                {
                  "name": "title",
                  "rawType": "object",
                  "type": "string"
                },
                {
                  "name": "text",
                  "rawType": "object",
                  "type": "string"
                },
                {
                  "name": "subject",
                  "rawType": "object",
                  "type": "string"
                },
                {
                  "name": "date",
                  "rawType": "object",
                  "type": "string"
                }
              ],
              "conversionMethod": "pd.DataFrame",
              "ref": "db890d8b-0f99-4d50-9d3b-30ca9c1970fe",
              "rows": [
                [
                  "0",
                  "Scientists in Geneva Develop New Vaccine for Meningitis",
                  "A team in Geneva has developed a new meningitis vaccine, showing 87% efficacy in early clinical trials.",
                  "News",
                  "March 16, 2025"
                ],
                [
                  "1",
                  "WHO Reports 20% Decline in Global Cholera Cases",
                  "The World Health Organization announces a 20% drop in cholera cases in 2024 due to improved water sanitation.",
                  "News",
                  "March 15, 2025"
                ],
                [
                  "2",
                  "AI Tool in Boston Detects Early Signs of Alzheimer’s Disease",
                  "A new AI system in Boston can detect Alzheimer’s disease up to five years earlier than traditional methods.",
                  "News",
                  "March 14, 2025"
                ],
                [
                  "3",
                  "London Researchers Link Noise Pollution to Increased Hypertension",
                  "A study in London finds that noise pollution increases hypertension risk by 18% in urban populations.",
                  "News",
                  "March 13, 2025"
                ],
                [
                  "4",
                  "Stem Cell Therapy Improves Vision in Blind Patients in Tokyo",
                  "Scientists in Tokyo used stem cell therapy to improve vision in 75% of blind patients in a recent trial.",
                  "News",
                  "March 12, 2025"
                ]
              ],
              "shape": {
                "columns": 4,
                "rows": 5
              }
            },
            "text/html": [
              "<div>\n",
              "<style scoped>\n",
              "    .dataframe tbody tr th:only-of-type {\n",
              "        vertical-align: middle;\n",
              "    }\n",
              "\n",
              "    .dataframe tbody tr th {\n",
              "        vertical-align: top;\n",
              "    }\n",
              "\n",
              "    .dataframe thead th {\n",
              "        text-align: right;\n",
              "    }\n",
              "</style>\n",
              "<table border=\"1\" class=\"dataframe\">\n",
              "  <thead>\n",
              "    <tr style=\"text-align: right;\">\n",
              "      <th></th>\n",
              "      <th>title</th>\n",
              "      <th>text</th>\n",
              "      <th>subject</th>\n",
              "      <th>date</th>\n",
              "    </tr>\n",
              "  </thead>\n",
              "  <tbody>\n",
              "    <tr>\n",
              "      <th>0</th>\n",
              "      <td>Scientists in Geneva Develop New Vaccine for M...</td>\n",
              "      <td>A team in Geneva has developed a new meningiti...</td>\n",
              "      <td>News</td>\n",
              "      <td>March 16, 2025</td>\n",
              "    </tr>\n",
              "    <tr>\n",
              "      <th>1</th>\n",
              "      <td>WHO Reports 20% Decline in Global Cholera Cases</td>\n",
              "      <td>The World Health Organization announces a 20% ...</td>\n",
              "      <td>News</td>\n",
              "      <td>March 15, 2025</td>\n",
              "    </tr>\n",
              "    <tr>\n",
              "      <th>2</th>\n",
              "      <td>AI Tool in Boston Detects Early Signs of Alzhe...</td>\n",
              "      <td>A new AI system in Boston can detect Alzheimer...</td>\n",
              "      <td>News</td>\n",
              "      <td>March 14, 2025</td>\n",
              "    </tr>\n",
              "    <tr>\n",
              "      <th>3</th>\n",
              "      <td>London Researchers Link Noise Pollution to Inc...</td>\n",
              "      <td>A study in London finds that noise pollution i...</td>\n",
              "      <td>News</td>\n",
              "      <td>March 13, 2025</td>\n",
              "    </tr>\n",
              "    <tr>\n",
              "      <th>4</th>\n",
              "      <td>Stem Cell Therapy Improves Vision in Blind Pat...</td>\n",
              "      <td>Scientists in Tokyo used stem cell therapy to ...</td>\n",
              "      <td>News</td>\n",
              "      <td>March 12, 2025</td>\n",
              "    </tr>\n",
              "  </tbody>\n",
              "</table>\n",
              "</div>"
            ],
            "text/plain": [
              "                                               title  \\\n",
              "0  Scientists in Geneva Develop New Vaccine for M...   \n",
              "1    WHO Reports 20% Decline in Global Cholera Cases   \n",
              "2  AI Tool in Boston Detects Early Signs of Alzhe...   \n",
              "3  London Researchers Link Noise Pollution to Inc...   \n",
              "4  Stem Cell Therapy Improves Vision in Blind Pat...   \n",
              "\n",
              "                                                text subject            date  \n",
              "0  A team in Geneva has developed a new meningiti...    News  March 16, 2025  \n",
              "1  The World Health Organization announces a 20% ...    News  March 15, 2025  \n",
              "2  A new AI system in Boston can detect Alzheimer...    News  March 14, 2025  \n",
              "3  A study in London finds that noise pollution i...    News  March 13, 2025  \n",
              "4  Scientists in Tokyo used stem cell therapy to ...    News  March 12, 2025  "
            ]
          },
          "execution_count": 20,
          "metadata": {},
          "output_type": "execute_result"
        }
      ],
      "source": [
        "true.head()"
      ]
    },
    {
      "cell_type": "code",
      "execution_count": 21,
      "metadata": {
        "id": "b0OGxFSi_DV6"
      },
      "outputs": [],
      "source": [
        "fake[ 'class']=0\n",
        "true ['class']=1"
      ]
    },
    {
      "cell_type": "code",
      "execution_count": 22,
      "metadata": {
        "id": "5kUQ9gGj_OvI"
      },
      "outputs": [],
      "source": [
        "data = pd.concat([fake,true], axis = 0)"
      ]
    },
    {
      "cell_type": "code",
      "execution_count": 23,
      "metadata": {
        "colab": {
          "base_uri": "https://localhost:8080/",
          "height": 363
        },
        "id": "byZoXXFB_ZuN",
        "outputId": "9c8a0abc-47b6-4999-9951-54807b6a1341"
      },
      "outputs": [
        {
          "data": {
            "application/vnd.microsoft.datawrangler.viewer.v0+json": {
              "columns": [
                {
                  "name": "index",
                  "rawType": "int64",
                  "type": "integer"
                },
                {
                  "name": "title",
                  "rawType": "object",
                  "type": "string"
                },
                {
                  "name": "text",
                  "rawType": "object",
                  "type": "string"
                },
                {
                  "name": "subject",
                  "rawType": "object",
                  "type": "string"
                },
                {
                  "name": "date",
                  "rawType": "object",
                  "type": "string"
                },
                {
                  "name": "Unnamed: 4",
                  "rawType": "float64",
                  "type": "float"
                },
                {
                  "name": "class",
                  "rawType": "int64",
                  "type": "integer"
                }
              ],
              "conversionMethod": "pd.DataFrame",
              "ref": "532c5cc4-4042-4595-8014-c98ee42f1040",
              "rows": [
                [
                  "352",
                  "New Vaccine for Coccidioidomycosis Shows 91% Efficacy in Tucson Trials",
                  "A coccidioidomycosis vaccine in Tucson proves 91% effective in protecting against the fungal infection.",
                  "News",
                  "January 7, 2025",
                  null,
                  "1"
                ],
                [
                  "226",
                  "Poland Investigates Link Between Cement Work and Dermatitis",
                  "Polish studies reported a 20% dermatitis rise among cement workers, with safety regulations under scrutiny.",
                  "Health",
                  "March 14, 2025",
                  null,
                  "0"
                ],
                [
                  "3",
                  "Canada Develops Wearable to Detect Early Sepsis Signs",
                  "Canada unveiled a wearable device to detect early sepsis, a breakthrough, but rural hospitals may struggle with integration due to funding gaps.",
                  "Health",
                  "March 13, 2025",
                  null,
                  "0"
                ],
                [
                  "386",
                  "Iraq Links Oil Fields to Heat Syncope",
                  "Iraqi research tied oil field work to a 15% heat syncope rise, questioning worker protection policies.",
                  "Health",
                  "March 16, 2025",
                  null,
                  "0"
                ],
                [
                  "115",
                  "Obesity Rates Drop in Africa Due to New Health Campaigns",
                  "The WHO reports a 6% decrease in obesity rates in Africa following new health campaigns in 2024.",
                  "News",
                  "February 24, 2025",
                  null,
                  "1"
                ],
                [
                  "65",
                  "New Wearable in Singapore Tracks Stress Levels for Better Health",
                  "A wearable device in Singapore monitors stress levels, helping 75% of users improve their well-being.",
                  "News",
                  "January 10, 2025",
                  null,
                  "1"
                ],
                [
                  "335",
                  "Barbados Expands Mobile Units for Barmah Forest Virus Testing",
                  "Barbados deployed mobile units to test for Barmah Forest virus, effective, but rural infrastructure gaps may limit coverage.",
                  "Health",
                  "March 11, 2025",
                  null,
                  "0"
                ],
                [
                  "418",
                  "Papua New Guinea Expands Mobile Units for Bwamba Virus Testing",
                  "Papua New Guinea deployed mobile units to test for Bwamba virus, effective, but rural infrastructure gaps may limit coverage.",
                  "Health",
                  "March 12, 2025",
                  null,
                  "0"
                ],
                [
                  "306",
                  "AI-Powered Tool Enhances Liver Cancer Detection in Valencia",
                  "An AI tool in Valencia improves liver cancer detection accuracy by 21%, gaining approval for use.",
                  "News",
                  "February 22, 2025",
                  null,
                  "1"
                ],
                [
                  "56",
                  "Poland Links Steel Industry to Lung Infections",
                  "Polish research tied steel production to a 15% lung infection rise, questioning factory ventilation standards.",
                  "Health",
                  "March 16, 2025",
                  null,
                  "0"
                ]
              ],
              "shape": {
                "columns": 6,
                "rows": 10
              }
            },
            "text/html": [
              "<div>\n",
              "<style scoped>\n",
              "    .dataframe tbody tr th:only-of-type {\n",
              "        vertical-align: middle;\n",
              "    }\n",
              "\n",
              "    .dataframe tbody tr th {\n",
              "        vertical-align: top;\n",
              "    }\n",
              "\n",
              "    .dataframe thead th {\n",
              "        text-align: right;\n",
              "    }\n",
              "</style>\n",
              "<table border=\"1\" class=\"dataframe\">\n",
              "  <thead>\n",
              "    <tr style=\"text-align: right;\">\n",
              "      <th></th>\n",
              "      <th>title</th>\n",
              "      <th>text</th>\n",
              "      <th>subject</th>\n",
              "      <th>date</th>\n",
              "      <th>Unnamed: 4</th>\n",
              "      <th>class</th>\n",
              "    </tr>\n",
              "  </thead>\n",
              "  <tbody>\n",
              "    <tr>\n",
              "      <th>352</th>\n",
              "      <td>New Vaccine for Coccidioidomycosis Shows 91% E...</td>\n",
              "      <td>A coccidioidomycosis vaccine in Tucson proves ...</td>\n",
              "      <td>News</td>\n",
              "      <td>January 7, 2025</td>\n",
              "      <td>NaN</td>\n",
              "      <td>1</td>\n",
              "    </tr>\n",
              "    <tr>\n",
              "      <th>226</th>\n",
              "      <td>Poland Investigates Link Between Cement Work a...</td>\n",
              "      <td>Polish studies reported a 20% dermatitis rise ...</td>\n",
              "      <td>Health</td>\n",
              "      <td>March 14, 2025</td>\n",
              "      <td>NaN</td>\n",
              "      <td>0</td>\n",
              "    </tr>\n",
              "    <tr>\n",
              "      <th>3</th>\n",
              "      <td>Canada Develops Wearable to Detect Early Sepsi...</td>\n",
              "      <td>Canada unveiled a wearable device to detect ea...</td>\n",
              "      <td>Health</td>\n",
              "      <td>March 13, 2025</td>\n",
              "      <td>NaN</td>\n",
              "      <td>0</td>\n",
              "    </tr>\n",
              "    <tr>\n",
              "      <th>386</th>\n",
              "      <td>Iraq Links Oil Fields to Heat Syncope</td>\n",
              "      <td>Iraqi research tied oil field work to a 15% he...</td>\n",
              "      <td>Health</td>\n",
              "      <td>March 16, 2025</td>\n",
              "      <td>NaN</td>\n",
              "      <td>0</td>\n",
              "    </tr>\n",
              "    <tr>\n",
              "      <th>115</th>\n",
              "      <td>Obesity Rates Drop in Africa Due to New Health...</td>\n",
              "      <td>The WHO reports a 6% decrease in obesity rates...</td>\n",
              "      <td>News</td>\n",
              "      <td>February 24, 2025</td>\n",
              "      <td>NaN</td>\n",
              "      <td>1</td>\n",
              "    </tr>\n",
              "    <tr>\n",
              "      <th>65</th>\n",
              "      <td>New Wearable in Singapore Tracks Stress Levels...</td>\n",
              "      <td>A wearable device in Singapore monitors stress...</td>\n",
              "      <td>News</td>\n",
              "      <td>January 10, 2025</td>\n",
              "      <td>NaN</td>\n",
              "      <td>1</td>\n",
              "    </tr>\n",
              "    <tr>\n",
              "      <th>335</th>\n",
              "      <td>Barbados Expands Mobile Units for Barmah Fores...</td>\n",
              "      <td>Barbados deployed mobile units to test for Bar...</td>\n",
              "      <td>Health</td>\n",
              "      <td>March 11, 2025</td>\n",
              "      <td>NaN</td>\n",
              "      <td>0</td>\n",
              "    </tr>\n",
              "    <tr>\n",
              "      <th>418</th>\n",
              "      <td>Papua New Guinea Expands Mobile Units for Bwam...</td>\n",
              "      <td>Papua New Guinea deployed mobile units to test...</td>\n",
              "      <td>Health</td>\n",
              "      <td>March 12, 2025</td>\n",
              "      <td>NaN</td>\n",
              "      <td>0</td>\n",
              "    </tr>\n",
              "    <tr>\n",
              "      <th>306</th>\n",
              "      <td>AI-Powered Tool Enhances Liver Cancer Detectio...</td>\n",
              "      <td>An AI tool in Valencia improves liver cancer d...</td>\n",
              "      <td>News</td>\n",
              "      <td>February 22, 2025</td>\n",
              "      <td>NaN</td>\n",
              "      <td>1</td>\n",
              "    </tr>\n",
              "    <tr>\n",
              "      <th>56</th>\n",
              "      <td>Poland Links Steel Industry to Lung Infections</td>\n",
              "      <td>Polish research tied steel production to a 15%...</td>\n",
              "      <td>Health</td>\n",
              "      <td>March 16, 2025</td>\n",
              "      <td>NaN</td>\n",
              "      <td>0</td>\n",
              "    </tr>\n",
              "  </tbody>\n",
              "</table>\n",
              "</div>"
            ],
            "text/plain": [
              "                                                 title  \\\n",
              "352  New Vaccine for Coccidioidomycosis Shows 91% E...   \n",
              "226  Poland Investigates Link Between Cement Work a...   \n",
              "3    Canada Develops Wearable to Detect Early Sepsi...   \n",
              "386              Iraq Links Oil Fields to Heat Syncope   \n",
              "115  Obesity Rates Drop in Africa Due to New Health...   \n",
              "65   New Wearable in Singapore Tracks Stress Levels...   \n",
              "335  Barbados Expands Mobile Units for Barmah Fores...   \n",
              "418  Papua New Guinea Expands Mobile Units for Bwam...   \n",
              "306  AI-Powered Tool Enhances Liver Cancer Detectio...   \n",
              "56      Poland Links Steel Industry to Lung Infections   \n",
              "\n",
              "                                                  text subject  \\\n",
              "352  A coccidioidomycosis vaccine in Tucson proves ...    News   \n",
              "226  Polish studies reported a 20% dermatitis rise ...  Health   \n",
              "3    Canada unveiled a wearable device to detect ea...  Health   \n",
              "386  Iraqi research tied oil field work to a 15% he...  Health   \n",
              "115  The WHO reports a 6% decrease in obesity rates...    News   \n",
              "65   A wearable device in Singapore monitors stress...    News   \n",
              "335  Barbados deployed mobile units to test for Bar...  Health   \n",
              "418  Papua New Guinea deployed mobile units to test...  Health   \n",
              "306  An AI tool in Valencia improves liver cancer d...    News   \n",
              "56   Polish research tied steel production to a 15%...  Health   \n",
              "\n",
              "                  date  Unnamed: 4  class  \n",
              "352    January 7, 2025         NaN      1  \n",
              "226     March 14, 2025         NaN      0  \n",
              "3       March 13, 2025         NaN      0  \n",
              "386     March 16, 2025         NaN      0  \n",
              "115  February 24, 2025         NaN      1  \n",
              "65    January 10, 2025         NaN      1  \n",
              "335     March 11, 2025         NaN      0  \n",
              "418     March 12, 2025         NaN      0  \n",
              "306  February 22, 2025         NaN      1  \n",
              "56      March 16, 2025         NaN      0  "
            ]
          },
          "execution_count": 23,
          "metadata": {},
          "output_type": "execute_result"
        }
      ],
      "source": [
        "data.sample(10)"
      ]
    },
    {
      "cell_type": "code",
      "execution_count": 24,
      "metadata": {
        "id": "lpp9eRVp_e-c"
      },
      "outputs": [],
      "source": [
        "data = data.drop ([\"title\", \"subject\", \"date\"], axis = 1)"
      ]
    },
    {
      "cell_type": "code",
      "execution_count": 25,
      "metadata": {
        "id": "4rMJRBAF_p2B"
      },
      "outputs": [],
      "source": [
        "data.reset_index (inplace=True)"
      ]
    },
    {
      "cell_type": "code",
      "execution_count": 26,
      "metadata": {
        "id": "l8SPx8Rb_z0X"
      },
      "outputs": [],
      "source": [
        "data.drop (['index'],axis = 1, inplace=True)"
      ]
    },
    {
      "cell_type": "code",
      "execution_count": 27,
      "metadata": {
        "colab": {
          "base_uri": "https://localhost:8080/",
          "height": 206
        },
        "id": "FeuDV4lH_6He",
        "outputId": "f5f968c6-d374-40f6-b787-80a0268e4f4d"
      },
      "outputs": [
        {
          "data": {
            "application/vnd.microsoft.datawrangler.viewer.v0+json": {
              "columns": [
                {
                  "name": "index",
                  "rawType": "int64",
                  "type": "integer"
                },
                {
                  "name": "text",
                  "rawType": "object",
                  "type": "string"
                },
                {
                  "name": "Unnamed: 4",
                  "rawType": "float64",
                  "type": "float"
                },
                {
                  "name": "class",
                  "rawType": "int64",
                  "type": "integer"
                }
              ],
              "conversionMethod": "pd.DataFrame",
              "ref": "d8a9e961-5670-4ce0-ba28-66f3820e22bd",
              "rows": [
                [
                  "316",
                  "Cyprus unveiled a wearable to monitor Churg-Strauss syndrome, innovative, but high costs may exclude low-income patients.",
                  null,
                  "0"
                ],
                [
                  "860",
                  "An AI tool in Dublin predicts gout flare-ups with 87% accuracy, aiding treatment planning.",
                  null,
                  "1"
                ],
                [
                  "111",
                  "Switzerland credited better hygiene education for a 12% drop in hand, foot, and mouth disease, though daycare outbreaks may be underreported.",
                  null,
                  "0"
                ],
                [
                  "231",
                  "Indonesian studies reported a 15% schistosomiasis rise post-floods, with sanitation infrastructure gaps under scrutiny.",
                  null,
                  "0"
                ],
                [
                  "842",
                  "Manila reports a 11% decrease in laryngitis cases following air quality improvements in 2024.",
                  null,
                  "1"
                ]
              ],
              "shape": {
                "columns": 3,
                "rows": 5
              }
            },
            "text/html": [
              "<div>\n",
              "<style scoped>\n",
              "    .dataframe tbody tr th:only-of-type {\n",
              "        vertical-align: middle;\n",
              "    }\n",
              "\n",
              "    .dataframe tbody tr th {\n",
              "        vertical-align: top;\n",
              "    }\n",
              "\n",
              "    .dataframe thead th {\n",
              "        text-align: right;\n",
              "    }\n",
              "</style>\n",
              "<table border=\"1\" class=\"dataframe\">\n",
              "  <thead>\n",
              "    <tr style=\"text-align: right;\">\n",
              "      <th></th>\n",
              "      <th>text</th>\n",
              "      <th>Unnamed: 4</th>\n",
              "      <th>class</th>\n",
              "    </tr>\n",
              "  </thead>\n",
              "  <tbody>\n",
              "    <tr>\n",
              "      <th>316</th>\n",
              "      <td>Cyprus unveiled a wearable to monitor Churg-St...</td>\n",
              "      <td>NaN</td>\n",
              "      <td>0</td>\n",
              "    </tr>\n",
              "    <tr>\n",
              "      <th>860</th>\n",
              "      <td>An AI tool in Dublin predicts gout flare-ups w...</td>\n",
              "      <td>NaN</td>\n",
              "      <td>1</td>\n",
              "    </tr>\n",
              "    <tr>\n",
              "      <th>111</th>\n",
              "      <td>Switzerland credited better hygiene education ...</td>\n",
              "      <td>NaN</td>\n",
              "      <td>0</td>\n",
              "    </tr>\n",
              "    <tr>\n",
              "      <th>231</th>\n",
              "      <td>Indonesian studies reported a 15% schistosomia...</td>\n",
              "      <td>NaN</td>\n",
              "      <td>0</td>\n",
              "    </tr>\n",
              "    <tr>\n",
              "      <th>842</th>\n",
              "      <td>Manila reports a 11% decrease in laryngitis ca...</td>\n",
              "      <td>NaN</td>\n",
              "      <td>1</td>\n",
              "    </tr>\n",
              "  </tbody>\n",
              "</table>\n",
              "</div>"
            ],
            "text/plain": [
              "                                                  text  Unnamed: 4  class\n",
              "316  Cyprus unveiled a wearable to monitor Churg-St...         NaN      0\n",
              "860  An AI tool in Dublin predicts gout flare-ups w...         NaN      1\n",
              "111  Switzerland credited better hygiene education ...         NaN      0\n",
              "231  Indonesian studies reported a 15% schistosomia...         NaN      0\n",
              "842  Manila reports a 11% decrease in laryngitis ca...         NaN      1"
            ]
          },
          "execution_count": 27,
          "metadata": {},
          "output_type": "execute_result"
        }
      ],
      "source": [
        "data.sample(5)"
      ]
    },
    {
      "cell_type": "code",
      "execution_count": 28,
      "metadata": {
        "id": "1IBH0mxl__iN"
      },
      "outputs": [
        {
          "name": "stderr",
          "output_type": "stream",
          "text": [
            "<>:3: SyntaxWarning: invalid escape sequence '\\['\n",
            "<>:5: SyntaxWarning: invalid escape sequence '\\S'\n",
            "<>:9: SyntaxWarning: invalid escape sequence '\\w'\n",
            "<>:3: SyntaxWarning: invalid escape sequence '\\['\n",
            "<>:5: SyntaxWarning: invalid escape sequence '\\S'\n",
            "<>:9: SyntaxWarning: invalid escape sequence '\\w'\n",
            "/tmp/ipykernel_49231/913239572.py:3: SyntaxWarning: invalid escape sequence '\\['\n",
            "  text = re.sub('\\[.*P\\]', \"\", text)\n",
            "/tmp/ipykernel_49231/913239572.py:5: SyntaxWarning: invalid escape sequence '\\S'\n",
            "  text = re.sub(\"https?:://\\S+|www.\\S+\", \"'\", text)\n",
            "/tmp/ipykernel_49231/913239572.py:9: SyntaxWarning: invalid escape sequence '\\w'\n",
            "  text = re.sub(\"\\w*\\d\\w*\", \"'\", text)\n"
          ]
        }
      ],
      "source": [
        "def clean_text(text):\n",
        "    text = text.lower()\n",
        "    text = re.sub('\\[.*P\\]', \"\", text)\n",
        "    text = re.sub(\"\\\\W\", \" \", text)\n",
        "    text = re.sub(\"https?:://\\S+|www.\\S+\", \"'\", text)\n",
        "    text = re.sub(\"<.*?>+\", \"\", text)\n",
        "    text = re.sub(f\"[{re.escape(string.punctuation)}]\", \"\", text)\n",
        "    text = re.sub(\"\\n\", \"\", text)\n",
        "    text = re.sub(\"\\w*\\d\\w*\", \"'\", text)\n",
        "    return text"
      ]
    },
    {
      "cell_type": "code",
      "execution_count": 29,
      "metadata": {
        "id": "p5QXfKMnCCVw"
      },
      "outputs": [],
      "source": [
        "data[\"text\"] = data[\"text\"].apply(clean_text)"
      ]
    },
    {
      "cell_type": "code",
      "execution_count": 30,
      "metadata": {
        "id": "WRwiqV95C8xi"
      },
      "outputs": [],
      "source": [
        "x=data [\"text\"]\n",
        "y=data [\"class\"]\n",
        "xtrain, xtest, ytrain, ytest = train_test_split(x,y,test_size=0.25, random_state=42)"
      ]
    },
    {
      "cell_type": "code",
      "execution_count": 31,
      "metadata": {
        "id": "dVF5YEuRDKvP"
      },
      "outputs": [],
      "source": [
        "vectorizer = TfidfVectorizer ()\n",
        "xv_train = vectorizer. fit_transform(xtrain)\n",
        "xv_test = vectorizer.transform(xtest)"
      ]
    },
    {
      "cell_type": "code",
      "execution_count": 32,
      "metadata": {
        "colab": {
          "base_uri": "https://localhost:8080/",
          "height": 80
        },
        "id": "NgVtn9VzDYok",
        "outputId": "4da0dc3d-e11c-4dd1-96b7-d9f8510060a4"
      },
      "outputs": [
        {
          "data": {
            "text/html": [
              "<style>#sk-container-id-1 {\n",
              "  /* Definition of color scheme common for light and dark mode */\n",
              "  --sklearn-color-text: #000;\n",
              "  --sklearn-color-text-muted: #666;\n",
              "  --sklearn-color-line: gray;\n",
              "  /* Definition of color scheme for unfitted estimators */\n",
              "  --sklearn-color-unfitted-level-0: #fff5e6;\n",
              "  --sklearn-color-unfitted-level-1: #f6e4d2;\n",
              "  --sklearn-color-unfitted-level-2: #ffe0b3;\n",
              "  --sklearn-color-unfitted-level-3: chocolate;\n",
              "  /* Definition of color scheme for fitted estimators */\n",
              "  --sklearn-color-fitted-level-0: #f0f8ff;\n",
              "  --sklearn-color-fitted-level-1: #d4ebff;\n",
              "  --sklearn-color-fitted-level-2: #b3dbfd;\n",
              "  --sklearn-color-fitted-level-3: cornflowerblue;\n",
              "\n",
              "  /* Specific color for light theme */\n",
              "  --sklearn-color-text-on-default-background: var(--sg-text-color, var(--theme-code-foreground, var(--jp-content-font-color1, black)));\n",
              "  --sklearn-color-background: var(--sg-background-color, var(--theme-background, var(--jp-layout-color0, white)));\n",
              "  --sklearn-color-border-box: var(--sg-text-color, var(--theme-code-foreground, var(--jp-content-font-color1, black)));\n",
              "  --sklearn-color-icon: #696969;\n",
              "\n",
              "  @media (prefers-color-scheme: dark) {\n",
              "    /* Redefinition of color scheme for dark theme */\n",
              "    --sklearn-color-text-on-default-background: var(--sg-text-color, var(--theme-code-foreground, var(--jp-content-font-color1, white)));\n",
              "    --sklearn-color-background: var(--sg-background-color, var(--theme-background, var(--jp-layout-color0, #111)));\n",
              "    --sklearn-color-border-box: var(--sg-text-color, var(--theme-code-foreground, var(--jp-content-font-color1, white)));\n",
              "    --sklearn-color-icon: #878787;\n",
              "  }\n",
              "}\n",
              "\n",
              "#sk-container-id-1 {\n",
              "  color: var(--sklearn-color-text);\n",
              "}\n",
              "\n",
              "#sk-container-id-1 pre {\n",
              "  padding: 0;\n",
              "}\n",
              "\n",
              "#sk-container-id-1 input.sk-hidden--visually {\n",
              "  border: 0;\n",
              "  clip: rect(1px 1px 1px 1px);\n",
              "  clip: rect(1px, 1px, 1px, 1px);\n",
              "  height: 1px;\n",
              "  margin: -1px;\n",
              "  overflow: hidden;\n",
              "  padding: 0;\n",
              "  position: absolute;\n",
              "  width: 1px;\n",
              "}\n",
              "\n",
              "#sk-container-id-1 div.sk-dashed-wrapped {\n",
              "  border: 1px dashed var(--sklearn-color-line);\n",
              "  margin: 0 0.4em 0.5em 0.4em;\n",
              "  box-sizing: border-box;\n",
              "  padding-bottom: 0.4em;\n",
              "  background-color: var(--sklearn-color-background);\n",
              "}\n",
              "\n",
              "#sk-container-id-1 div.sk-container {\n",
              "  /* jupyter's `normalize.less` sets `[hidden] { display: none; }`\n",
              "     but bootstrap.min.css set `[hidden] { display: none !important; }`\n",
              "     so we also need the `!important` here to be able to override the\n",
              "     default hidden behavior on the sphinx rendered scikit-learn.org.\n",
              "     See: https://github.com/scikit-learn/scikit-learn/issues/21755 */\n",
              "  display: inline-block !important;\n",
              "  position: relative;\n",
              "}\n",
              "\n",
              "#sk-container-id-1 div.sk-text-repr-fallback {\n",
              "  display: none;\n",
              "}\n",
              "\n",
              "div.sk-parallel-item,\n",
              "div.sk-serial,\n",
              "div.sk-item {\n",
              "  /* draw centered vertical line to link estimators */\n",
              "  background-image: linear-gradient(var(--sklearn-color-text-on-default-background), var(--sklearn-color-text-on-default-background));\n",
              "  background-size: 2px 100%;\n",
              "  background-repeat: no-repeat;\n",
              "  background-position: center center;\n",
              "}\n",
              "\n",
              "/* Parallel-specific style estimator block */\n",
              "\n",
              "#sk-container-id-1 div.sk-parallel-item::after {\n",
              "  content: \"\";\n",
              "  width: 100%;\n",
              "  border-bottom: 2px solid var(--sklearn-color-text-on-default-background);\n",
              "  flex-grow: 1;\n",
              "}\n",
              "\n",
              "#sk-container-id-1 div.sk-parallel {\n",
              "  display: flex;\n",
              "  align-items: stretch;\n",
              "  justify-content: center;\n",
              "  background-color: var(--sklearn-color-background);\n",
              "  position: relative;\n",
              "}\n",
              "\n",
              "#sk-container-id-1 div.sk-parallel-item {\n",
              "  display: flex;\n",
              "  flex-direction: column;\n",
              "}\n",
              "\n",
              "#sk-container-id-1 div.sk-parallel-item:first-child::after {\n",
              "  align-self: flex-end;\n",
              "  width: 50%;\n",
              "}\n",
              "\n",
              "#sk-container-id-1 div.sk-parallel-item:last-child::after {\n",
              "  align-self: flex-start;\n",
              "  width: 50%;\n",
              "}\n",
              "\n",
              "#sk-container-id-1 div.sk-parallel-item:only-child::after {\n",
              "  width: 0;\n",
              "}\n",
              "\n",
              "/* Serial-specific style estimator block */\n",
              "\n",
              "#sk-container-id-1 div.sk-serial {\n",
              "  display: flex;\n",
              "  flex-direction: column;\n",
              "  align-items: center;\n",
              "  background-color: var(--sklearn-color-background);\n",
              "  padding-right: 1em;\n",
              "  padding-left: 1em;\n",
              "}\n",
              "\n",
              "\n",
              "/* Toggleable style: style used for estimator/Pipeline/ColumnTransformer box that is\n",
              "clickable and can be expanded/collapsed.\n",
              "- Pipeline and ColumnTransformer use this feature and define the default style\n",
              "- Estimators will overwrite some part of the style using the `sk-estimator` class\n",
              "*/\n",
              "\n",
              "/* Pipeline and ColumnTransformer style (default) */\n",
              "\n",
              "#sk-container-id-1 div.sk-toggleable {\n",
              "  /* Default theme specific background. It is overwritten whether we have a\n",
              "  specific estimator or a Pipeline/ColumnTransformer */\n",
              "  background-color: var(--sklearn-color-background);\n",
              "}\n",
              "\n",
              "/* Toggleable label */\n",
              "#sk-container-id-1 label.sk-toggleable__label {\n",
              "  cursor: pointer;\n",
              "  display: flex;\n",
              "  width: 100%;\n",
              "  margin-bottom: 0;\n",
              "  padding: 0.5em;\n",
              "  box-sizing: border-box;\n",
              "  text-align: center;\n",
              "  align-items: start;\n",
              "  justify-content: space-between;\n",
              "  gap: 0.5em;\n",
              "}\n",
              "\n",
              "#sk-container-id-1 label.sk-toggleable__label .caption {\n",
              "  font-size: 0.6rem;\n",
              "  font-weight: lighter;\n",
              "  color: var(--sklearn-color-text-muted);\n",
              "}\n",
              "\n",
              "#sk-container-id-1 label.sk-toggleable__label-arrow:before {\n",
              "  /* Arrow on the left of the label */\n",
              "  content: \"▸\";\n",
              "  float: left;\n",
              "  margin-right: 0.25em;\n",
              "  color: var(--sklearn-color-icon);\n",
              "}\n",
              "\n",
              "#sk-container-id-1 label.sk-toggleable__label-arrow:hover:before {\n",
              "  color: var(--sklearn-color-text);\n",
              "}\n",
              "\n",
              "/* Toggleable content - dropdown */\n",
              "\n",
              "#sk-container-id-1 div.sk-toggleable__content {\n",
              "  max-height: 0;\n",
              "  max-width: 0;\n",
              "  overflow: hidden;\n",
              "  text-align: left;\n",
              "  /* unfitted */\n",
              "  background-color: var(--sklearn-color-unfitted-level-0);\n",
              "}\n",
              "\n",
              "#sk-container-id-1 div.sk-toggleable__content.fitted {\n",
              "  /* fitted */\n",
              "  background-color: var(--sklearn-color-fitted-level-0);\n",
              "}\n",
              "\n",
              "#sk-container-id-1 div.sk-toggleable__content pre {\n",
              "  margin: 0.2em;\n",
              "  border-radius: 0.25em;\n",
              "  color: var(--sklearn-color-text);\n",
              "  /* unfitted */\n",
              "  background-color: var(--sklearn-color-unfitted-level-0);\n",
              "}\n",
              "\n",
              "#sk-container-id-1 div.sk-toggleable__content.fitted pre {\n",
              "  /* unfitted */\n",
              "  background-color: var(--sklearn-color-fitted-level-0);\n",
              "}\n",
              "\n",
              "#sk-container-id-1 input.sk-toggleable__control:checked~div.sk-toggleable__content {\n",
              "  /* Expand drop-down */\n",
              "  max-height: 200px;\n",
              "  max-width: 100%;\n",
              "  overflow: auto;\n",
              "}\n",
              "\n",
              "#sk-container-id-1 input.sk-toggleable__control:checked~label.sk-toggleable__label-arrow:before {\n",
              "  content: \"▾\";\n",
              "}\n",
              "\n",
              "/* Pipeline/ColumnTransformer-specific style */\n",
              "\n",
              "#sk-container-id-1 div.sk-label input.sk-toggleable__control:checked~label.sk-toggleable__label {\n",
              "  color: var(--sklearn-color-text);\n",
              "  background-color: var(--sklearn-color-unfitted-level-2);\n",
              "}\n",
              "\n",
              "#sk-container-id-1 div.sk-label.fitted input.sk-toggleable__control:checked~label.sk-toggleable__label {\n",
              "  background-color: var(--sklearn-color-fitted-level-2);\n",
              "}\n",
              "\n",
              "/* Estimator-specific style */\n",
              "\n",
              "/* Colorize estimator box */\n",
              "#sk-container-id-1 div.sk-estimator input.sk-toggleable__control:checked~label.sk-toggleable__label {\n",
              "  /* unfitted */\n",
              "  background-color: var(--sklearn-color-unfitted-level-2);\n",
              "}\n",
              "\n",
              "#sk-container-id-1 div.sk-estimator.fitted input.sk-toggleable__control:checked~label.sk-toggleable__label {\n",
              "  /* fitted */\n",
              "  background-color: var(--sklearn-color-fitted-level-2);\n",
              "}\n",
              "\n",
              "#sk-container-id-1 div.sk-label label.sk-toggleable__label,\n",
              "#sk-container-id-1 div.sk-label label {\n",
              "  /* The background is the default theme color */\n",
              "  color: var(--sklearn-color-text-on-default-background);\n",
              "}\n",
              "\n",
              "/* On hover, darken the color of the background */\n",
              "#sk-container-id-1 div.sk-label:hover label.sk-toggleable__label {\n",
              "  color: var(--sklearn-color-text);\n",
              "  background-color: var(--sklearn-color-unfitted-level-2);\n",
              "}\n",
              "\n",
              "/* Label box, darken color on hover, fitted */\n",
              "#sk-container-id-1 div.sk-label.fitted:hover label.sk-toggleable__label.fitted {\n",
              "  color: var(--sklearn-color-text);\n",
              "  background-color: var(--sklearn-color-fitted-level-2);\n",
              "}\n",
              "\n",
              "/* Estimator label */\n",
              "\n",
              "#sk-container-id-1 div.sk-label label {\n",
              "  font-family: monospace;\n",
              "  font-weight: bold;\n",
              "  display: inline-block;\n",
              "  line-height: 1.2em;\n",
              "}\n",
              "\n",
              "#sk-container-id-1 div.sk-label-container {\n",
              "  text-align: center;\n",
              "}\n",
              "\n",
              "/* Estimator-specific */\n",
              "#sk-container-id-1 div.sk-estimator {\n",
              "  font-family: monospace;\n",
              "  border: 1px dotted var(--sklearn-color-border-box);\n",
              "  border-radius: 0.25em;\n",
              "  box-sizing: border-box;\n",
              "  margin-bottom: 0.5em;\n",
              "  /* unfitted */\n",
              "  background-color: var(--sklearn-color-unfitted-level-0);\n",
              "}\n",
              "\n",
              "#sk-container-id-1 div.sk-estimator.fitted {\n",
              "  /* fitted */\n",
              "  background-color: var(--sklearn-color-fitted-level-0);\n",
              "}\n",
              "\n",
              "/* on hover */\n",
              "#sk-container-id-1 div.sk-estimator:hover {\n",
              "  /* unfitted */\n",
              "  background-color: var(--sklearn-color-unfitted-level-2);\n",
              "}\n",
              "\n",
              "#sk-container-id-1 div.sk-estimator.fitted:hover {\n",
              "  /* fitted */\n",
              "  background-color: var(--sklearn-color-fitted-level-2);\n",
              "}\n",
              "\n",
              "/* Specification for estimator info (e.g. \"i\" and \"?\") */\n",
              "\n",
              "/* Common style for \"i\" and \"?\" */\n",
              "\n",
              ".sk-estimator-doc-link,\n",
              "a:link.sk-estimator-doc-link,\n",
              "a:visited.sk-estimator-doc-link {\n",
              "  float: right;\n",
              "  font-size: smaller;\n",
              "  line-height: 1em;\n",
              "  font-family: monospace;\n",
              "  background-color: var(--sklearn-color-background);\n",
              "  border-radius: 1em;\n",
              "  height: 1em;\n",
              "  width: 1em;\n",
              "  text-decoration: none !important;\n",
              "  margin-left: 0.5em;\n",
              "  text-align: center;\n",
              "  /* unfitted */\n",
              "  border: var(--sklearn-color-unfitted-level-1) 1pt solid;\n",
              "  color: var(--sklearn-color-unfitted-level-1);\n",
              "}\n",
              "\n",
              ".sk-estimator-doc-link.fitted,\n",
              "a:link.sk-estimator-doc-link.fitted,\n",
              "a:visited.sk-estimator-doc-link.fitted {\n",
              "  /* fitted */\n",
              "  border: var(--sklearn-color-fitted-level-1) 1pt solid;\n",
              "  color: var(--sklearn-color-fitted-level-1);\n",
              "}\n",
              "\n",
              "/* On hover */\n",
              "div.sk-estimator:hover .sk-estimator-doc-link:hover,\n",
              ".sk-estimator-doc-link:hover,\n",
              "div.sk-label-container:hover .sk-estimator-doc-link:hover,\n",
              ".sk-estimator-doc-link:hover {\n",
              "  /* unfitted */\n",
              "  background-color: var(--sklearn-color-unfitted-level-3);\n",
              "  color: var(--sklearn-color-background);\n",
              "  text-decoration: none;\n",
              "}\n",
              "\n",
              "div.sk-estimator.fitted:hover .sk-estimator-doc-link.fitted:hover,\n",
              ".sk-estimator-doc-link.fitted:hover,\n",
              "div.sk-label-container:hover .sk-estimator-doc-link.fitted:hover,\n",
              ".sk-estimator-doc-link.fitted:hover {\n",
              "  /* fitted */\n",
              "  background-color: var(--sklearn-color-fitted-level-3);\n",
              "  color: var(--sklearn-color-background);\n",
              "  text-decoration: none;\n",
              "}\n",
              "\n",
              "/* Span, style for the box shown on hovering the info icon */\n",
              ".sk-estimator-doc-link span {\n",
              "  display: none;\n",
              "  z-index: 9999;\n",
              "  position: relative;\n",
              "  font-weight: normal;\n",
              "  right: .2ex;\n",
              "  padding: .5ex;\n",
              "  margin: .5ex;\n",
              "  width: min-content;\n",
              "  min-width: 20ex;\n",
              "  max-width: 50ex;\n",
              "  color: var(--sklearn-color-text);\n",
              "  box-shadow: 2pt 2pt 4pt #999;\n",
              "  /* unfitted */\n",
              "  background: var(--sklearn-color-unfitted-level-0);\n",
              "  border: .5pt solid var(--sklearn-color-unfitted-level-3);\n",
              "}\n",
              "\n",
              ".sk-estimator-doc-link.fitted span {\n",
              "  /* fitted */\n",
              "  background: var(--sklearn-color-fitted-level-0);\n",
              "  border: var(--sklearn-color-fitted-level-3);\n",
              "}\n",
              "\n",
              ".sk-estimator-doc-link:hover span {\n",
              "  display: block;\n",
              "}\n",
              "\n",
              "/* \"?\"-specific style due to the `<a>` HTML tag */\n",
              "\n",
              "#sk-container-id-1 a.estimator_doc_link {\n",
              "  float: right;\n",
              "  font-size: 1rem;\n",
              "  line-height: 1em;\n",
              "  font-family: monospace;\n",
              "  background-color: var(--sklearn-color-background);\n",
              "  border-radius: 1rem;\n",
              "  height: 1rem;\n",
              "  width: 1rem;\n",
              "  text-decoration: none;\n",
              "  /* unfitted */\n",
              "  color: var(--sklearn-color-unfitted-level-1);\n",
              "  border: var(--sklearn-color-unfitted-level-1) 1pt solid;\n",
              "}\n",
              "\n",
              "#sk-container-id-1 a.estimator_doc_link.fitted {\n",
              "  /* fitted */\n",
              "  border: var(--sklearn-color-fitted-level-1) 1pt solid;\n",
              "  color: var(--sklearn-color-fitted-level-1);\n",
              "}\n",
              "\n",
              "/* On hover */\n",
              "#sk-container-id-1 a.estimator_doc_link:hover {\n",
              "  /* unfitted */\n",
              "  background-color: var(--sklearn-color-unfitted-level-3);\n",
              "  color: var(--sklearn-color-background);\n",
              "  text-decoration: none;\n",
              "}\n",
              "\n",
              "#sk-container-id-1 a.estimator_doc_link.fitted:hover {\n",
              "  /* fitted */\n",
              "  background-color: var(--sklearn-color-fitted-level-3);\n",
              "}\n",
              "</style><div id=\"sk-container-id-1\" class=\"sk-top-container\"><div class=\"sk-text-repr-fallback\"><pre>LogisticRegression()</pre><b>In a Jupyter environment, please rerun this cell to show the HTML representation or trust the notebook. <br />On GitHub, the HTML representation is unable to render, please try loading this page with nbviewer.org.</b></div><div class=\"sk-container\" hidden><div class=\"sk-item\"><div class=\"sk-estimator fitted sk-toggleable\"><input class=\"sk-toggleable__control sk-hidden--visually\" id=\"sk-estimator-id-1\" type=\"checkbox\" checked><label for=\"sk-estimator-id-1\" class=\"sk-toggleable__label fitted sk-toggleable__label-arrow\"><div><div>LogisticRegression</div></div><div><a class=\"sk-estimator-doc-link fitted\" rel=\"noreferrer\" target=\"_blank\" href=\"https://scikit-learn.org/1.6/modules/generated/sklearn.linear_model.LogisticRegression.html\">?<span>Documentation for LogisticRegression</span></a><span class=\"sk-estimator-doc-link fitted\">i<span>Fitted</span></span></div></label><div class=\"sk-toggleable__content fitted\"><pre>LogisticRegression()</pre></div> </div></div></div></div>"
            ],
            "text/plain": [
              "LogisticRegression()"
            ]
          },
          "execution_count": 32,
          "metadata": {},
          "output_type": "execute_result"
        }
      ],
      "source": [
        "lr = LogisticRegression()\n",
        "lr. fit(xv_train, ytrain)"
      ]
    },
    {
      "cell_type": "code",
      "execution_count": 33,
      "metadata": {
        "colab": {
          "base_uri": "https://localhost:8080/"
        },
        "id": "-IiQ3hmFDvEI",
        "outputId": "45000847-e4ff-439f-9ee1-750c93ac26af"
      },
      "outputs": [
        {
          "data": {
            "text/plain": [
              "1.0"
            ]
          },
          "execution_count": 33,
          "metadata": {},
          "output_type": "execute_result"
        }
      ],
      "source": [
        "prediction = lr.predict(xv_test)\n",
        "lr.score(xv_test, ytest)"
      ]
    },
    {
      "cell_type": "code",
      "execution_count": 34,
      "metadata": {
        "colab": {
          "base_uri": "https://localhost:8080/"
        },
        "id": "tQ4HN6uPET2f",
        "outputId": "265bdf08-d7c8-41cc-9a9f-8cf2a5425af6"
      },
      "outputs": [
        {
          "name": "stdout",
          "output_type": "stream",
          "text": [
            "              precision    recall  f1-score   support\n",
            "\n",
            "           0       1.00      1.00      1.00       155\n",
            "           1       1.00      1.00      1.00       104\n",
            "\n",
            "    accuracy                           1.00       259\n",
            "   macro avg       1.00      1.00      1.00       259\n",
            "weighted avg       1.00      1.00      1.00       259\n",
            "\n"
          ]
        }
      ],
      "source": [
        "print(classification_report(ytest, prediction))"
      ]
    },
    {
      "cell_type": "code",
      "execution_count": 35,
      "metadata": {
        "colab": {
          "base_uri": "https://localhost:8080/"
        },
        "id": "WE02b9y5EihE",
        "outputId": "e05afbf6-5843-447a-b947-1f6b19070307"
      },
      "outputs": [
        {
          "data": {
            "text/plain": [
              "['lr_model.jb']"
            ]
          },
          "execution_count": 35,
          "metadata": {},
          "output_type": "execute_result"
        }
      ],
      "source": [
        "joblib. dump(vectorizer, \"vectorizer.jb\")\n",
        "joblib.dump(lr, \"lr_model.jb\")"
      ]
    },
    {
      "cell_type": "code",
      "execution_count": null,
      "metadata": {
        "id": "5z5t4bCqFA61"
      },
      "outputs": [],
      "source": []
    }
  ],
  "metadata": {
    "colab": {
      "provenance": []
    },
    "kernelspec": {
      "display_name": "Python 3",
      "name": "python3"
    },
    "language_info": {
      "codemirror_mode": {
        "name": "ipython",
        "version": 3
      },
      "file_extension": ".py",
      "mimetype": "text/x-python",
      "name": "python",
      "nbconvert_exporter": "python",
      "pygments_lexer": "ipython3",
      "version": "3.12.1"
    }
  },
  "nbformat": 4,
  "nbformat_minor": 0
}
